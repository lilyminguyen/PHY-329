{
  "cells": [
    {
      "cell_type": "markdown",
      "id": "990b29ec",
      "metadata": {
        "id": "990b29ec"
      },
      "source": [
        "# An Introduction to Python for Scientific Computing\n",
        "\n",
        "In this chapter we'll cover the basics of Python, including how to import libraries, unique features of Python for scientific computing, and some key datatypes we will use throughout the course."
      ]
    },
    {
      "cell_type": "markdown",
      "id": "7e35e926",
      "metadata": {
        "tags": [
          "no-pdf"
        ],
        "id": "7e35e926"
      },
      "source": [
        "<!-- [Click here to open this notebook in Colab](https://colab.research.google.com/github/williamgilpin/cphy/blob/main/talks/python_intro.ipynb) -->\n",
        "Open this notebook in Google Colab: [![Open In Colab](https://colab.research.google.com/assets/colab-badge.svg)](https://colab.research.google.com/github/williamgilpin/cphy/blob/main/talks/python_intro.ipynb)\n",
        "\n",
        "<!-- Preamble: Run the cells below to import the necessary Python packages\n",
        "\n",
        "*This notebook was created by William Gilpin. Consult the [course website](https://www.wgilpin.com/cphy) for all content and [GitHub repository](https://github.com/williamgilpin/cphy) for raw files and runnable online code.* -->"
      ]
    },
    {
      "cell_type": "markdown",
      "id": "022cc420",
      "metadata": {
        "id": "022cc420"
      },
      "source": [
        "## Imports and preamble\n",
        "\n",
        "Imports are external Python libraries, usually stored in `.py` files on the filesystem. These include external modules that implement common functionality, like plotting, numerical computing, and data analysis. Modules can also be written by the user themselves, and stored in the same directory as the notebook, or in a subdirectory.\n",
        "\n",
        "If we want to use a module in our notebook, we can import it using the `import` statement. Since our notebook environment runs on Python, we don't need to import the language itself. However, for compatibility reasons, it's often worth checking that you are using the right version of Python (usually Python 3). You can do this by importing the `sys` module, which includes a bunch of tools for inspecting and manipulating various elements of your system."
      ]
    },
    {
      "cell_type": "code",
      "execution_count": null,
      "id": "1dbc7a28",
      "metadata": {
        "id": "1dbc7a28",
        "outputId": "fbdcf988-c083-4c4d-ddc0-fd90e3908c5b"
      },
      "outputs": [
        {
          "name": "stdout",
          "output_type": "stream",
          "text": [
            "3.13.1 | packaged by conda-forge | (main, Jan 13 2025, 09:45:31) [Clang 18.1.8 ]\n"
          ]
        }
      ],
      "source": [
        "# pre-installed library containing a grab bag of system functions\n",
        "import sys\n",
        "\n",
        "print(sys.version)"
      ]
    },
    {
      "cell_type": "markdown",
      "id": "36f5fc19",
      "metadata": {
        "id": "36f5fc19"
      },
      "source": [
        "\n",
        "\n",
        "**Encapsulation.** At the preamble stage, it's usually a good time to check that you are using the right environment before you start using or writing code.\n",
        "\n",
        "While not covered here, when working with multiple Python projects it is usually best practice to use some degree of encapsulation. This can include virtual environents like `uv`, `mamba`, `conda`, `pyenv` or `virtualenv`, all of which isolate dependencies among different Python libraries to ensure intercompatibility. To isolate at the level of the entire system, containers like Docker. For certain workflows, particularly those arising in bioinformatics, it makes sense to isolate the entire computing environment, essentially by simulating an isolated computer like a virtual machine. Cloud-hosted environments like Google Colab or CodeOcean provide virtual machines that do this.\n"
      ]
    },
    {
      "cell_type": "markdown",
      "id": "87cf451a",
      "metadata": {
        "id": "87cf451a"
      },
      "source": [
        "# About Jupyter and Jupyter Notebooks\n",
        "\n",
        "We will be using Jupyter Notebooks as the development environment for this book. Unlike raw python scripts `.py`, Jupyter Notebooks allow us to mix code, text, and visualizations in a single document, similar to a Mathematica notebook. A few key things to know about Jupyter Notebooks:\n",
        "\n",
        "1. **Kernel.** The Jupyter Notebook is a client-server application. The server is the \"kernel\", which is responsible for executing the code. The client is the notebook interface, which allows you to write code, text, and visualizations in a single document.\n",
        "\n",
        "2. **Order of execution.** Code in Jupyter Notebooks is executed cell by cell. This means that you can run a cell multiple times without having to re-run the entire notebook. Once a cell is run, the output is displayed inline with the code. Any variables defined in a cell are available for the duration of the session unless otherwise specified. Unlike raw python scripts, the order of execution is important, but not the order in which cells appear in the notebook. Once the notebook is retarted, all variables are reset, and only the text within cells (the code itself that sets variables) remains.\n",
        "\n",
        "2. **Magic commands.** Magic commands are special commands that start with a `%` that modify the behavior of the notebook. For example, `%matplotlib inline` tells the notebook to display matplotlib plots inline. These are *not* standard Python commands and they will cause errors if used in a `.py` file.\n",
        "\n",
        "<img src=\"https://github.com/williamgilpin/cphy/blob/main/resources/jupyterkernels.png?raw=1\" style=\"max-width:40%; height:auto;\">\n",
        "\n"
      ]
    },
    {
      "cell_type": "markdown",
      "id": "c9722395",
      "metadata": {
        "id": "c9722395"
      },
      "source": [
        "We will use a few Jupyter magic commands, which set certain features of our notebook environment. Below, I import a standard Python object, `Image`, from the `IPython.display` module. This object is treated specially by Jupyter, and it allows us to display images inline with the notebook.\n",
        "\n",
        "I also import the Python plotting library `matplotlib`, and set the `%matplotlib inline` magic command, which tells the notebook to display matplotlib plots inline in the notebook, rather than opening a new window.\n",
        "\n",
        "Finally, I load a Jupyter extension, `autoreload`, which tells the notebook to reload imported modules whenever the notebook is run. This is useful if you are developing code in a separate file and then importing it to the notebook, and you want to test the effects of your changes without restarting the notebook and kernel."
      ]
    },
    {
      "cell_type": "code",
      "execution_count": null,
      "id": "cbd66ac3",
      "metadata": {
        "id": "cbd66ac3",
        "outputId": "41ce58c4-7d81-413b-ed94-e34f4d999071"
      },
      "outputs": [
        {
          "name": "stdout",
          "output_type": "stream",
          "text": [
            "The autoreload extension is already loaded. To reload it, use:\n",
            "  %reload_ext autoreload\n"
          ]
        }
      ],
      "source": [
        "# Import some local code, which I'll use behind the scenes\n",
        "# from ../resources import helper_functions\n",
        "\n",
        "# Wipe all outputs from this notebook\n",
        "from IPython.display import Image, clear_output\n",
        "clear_output(True)\n",
        "\n",
        "# Import local plotting functions and in-notebook display functions\n",
        "import matplotlib.pyplot as plt\n",
        "\n",
        "# Import autoreload extension and set it to reload all modules whenever code is run\n",
        "%load_ext autoreload\n",
        "%autoreload 2\n"
      ]
    },
    {
      "cell_type": "markdown",
      "id": "0bb2eb1a",
      "metadata": {
        "id": "0bb2eb1a"
      },
      "source": [
        "# Why Python?\n",
        "\n",
        "\n",
        "Python has become one of the most popular and flexible languages for scientific computing because it is an **interpreted language**, which makes experimentation and prototyping fast and interactive. It is also highly extensible, with a vast ecosystem of external modules that can be imported for numerical analysis, symbolic mathematics, data visualization, parallel computing, and machine learning. This flexibility allows developers to move quickly from ideas to implementation without getting bogged down in low-level details or implementing their own versions of common tools.\n",
        "\n",
        "Other strong options for computational physics include C and C++, which remain unmatched for performance-critical applications where fine-grained control over memory and hardware is essential, and Mathematica, which is particularly powerful for symbolic manipulation, algebraic computation.\n",
        "\n",
        "While we are using Python, it is worth keeping an eye on newer and evolving languages for scientific computing such as Julia, which aims to combine the ease of Python with the speed of C. As a newer language than Python, Julia aims to combine the accessibility of a high-level dynamic language like Python while achieving performance closer to C, thanks to just-in-time (JIT) compilation. Julia also offers native linear algebra and parallelism. Rust a new compiled language aiming to replace C and potentially Fortran in many settings. It provides low-level performance comparable to C and C++, but with a strong focus on memory safety and concurrency guarantees enforced at compile time. Its ownership and borrowing system eliminates entire classes of bugs (like data races and segmentation faults), making it especially appealing for high-performance computing where reliability is critical.\n",
        "\n",
        "Several specialized languages and environments are tailored to particular domains of scientific computing: R is widely used in statistics; MATLAB remains a standard in engineering and applied mathematics, especially for signal processing and control system design; and Perl, though less common today, still sees use in text processing and legacy bioinformatics pipelines."
      ]
    },
    {
      "cell_type": "markdown",
      "id": "38f4ac2d",
      "metadata": {
        "id": "38f4ac2d"
      },
      "source": [
        "# Python basic syntax\n",
        "\n",
        "Python shares many features in common with object-oriented languages like Java or C++, and the scientific computing libraries have similar syntax to MATLAB, a popular domain-specific language used in some branches of engineering. Here, rather than reviewing all of Python's structure, we will focuse on the \"sharp edges\" that might surprise users coming from other languages, as well as other unique quirks of the Python language."
      ]
    },
    {
      "cell_type": "markdown",
      "id": "d9506549",
      "metadata": {
        "id": "d9506549"
      },
      "source": [
        "**Assigning variables**\n",
        "\n",
        "Usually in Python we use native float and integer types.\n",
        "\n",
        "## Assigning variables, pass by value for immutable types"
      ]
    },
    {
      "cell_type": "code",
      "execution_count": null,
      "id": "bbb61266",
      "metadata": {
        "id": "bbb61266",
        "outputId": "e3ea3ae7-891d-4069-834d-2f94adac28dc"
      },
      "outputs": [
        {
          "name": "stdout",
          "output_type": "stream",
          "text": [
            "2 1\n"
          ]
        }
      ],
      "source": [
        "a = 1\n",
        "b = 2\n",
        "# print(a, b)\n",
        "\n",
        "# temp = a\n",
        "# a = b\n",
        "# b = temp\n",
        "# print(a, b)\n",
        "\n",
        "a, b = b, a\n",
        "print(a, b)"
      ]
    },
    {
      "cell_type": "markdown",
      "id": "08101430",
      "metadata": {
        "id": "08101430"
      },
      "source": [
        "# Python data types\n",
        "\n",
        "Everything in Python is an object: variables, functions, digits. Objects in Python have a unified syntax for inspecting their properties:\n",
        "\n",
        "+ Calling `type(obj)` on an object `obj` will identify the general class of an object. For example, calling `type(1)` returns `int`, because the number 1 is a specific instance of the integer class.\n",
        "\n",
        "+ Calling `dir(obj)` returns a list of *methods* associated with that object. Methods are functions that implement various ways you might want to modify or combine objects. We will use and implement many objects throughout the course, but for the case of an `int` object, an example of a method would be `__add__`\n",
        "\n",
        "+ Callimng `help(obj)` returns a high-level description of the object, as well as its most commonly-used methods and properties."
      ]
    },
    {
      "cell_type": "code",
      "execution_count": null,
      "id": "fba6e727",
      "metadata": {
        "id": "fba6e727",
        "outputId": "5dc3f2c9-3551-4a0d-cca8-1cea9692d92d"
      },
      "outputs": [
        {
          "name": "stdout",
          "output_type": "stream",
          "text": [
            "74\n"
          ]
        }
      ],
      "source": [
        "# Find the type of an integer\n",
        "# a = 1\n",
        "# print(type(a))\n",
        "\n",
        "# # # Find the type of a string\n",
        "# b = \"Kolmogorov\"\n",
        "# print(type(b))\n",
        "\n",
        "# # List the first ten methods associated with a variable\n",
        "a = 1\n",
        "help(a)\n",
        "# print(len(dir(a)))"
      ]
    },
    {
      "cell_type": "markdown",
      "id": "fcb5f9f9",
      "metadata": {
        "id": "fcb5f9f9"
      },
      "source": [
        "# Built-in data types\n",
        "\n",
        "Given information: detector counts, velocities, temperatures, how do we store it and access it? We need to define primitive data types for data analysis or for storing within a simulation. The commonbuilt-in, or native, data types in Python are:\n",
        "\n",
        "+ `int` represent whole numbers, like 1, 2, 3, 4, 5, 6, 7, 8, 9, 10, etc.\n",
        "+ `float` represent real numbers with a decimal point and limited precision, like 1.0, 2.7, 3.14, 5.3329232, etc.\n",
        "+ `str` represent text, like \"Hello, world!\", \"This is a string\", \"12345\", etc. In Python, there is no separate \"character\" type, characters like the letter \"p\" are represented as strings of length 1.\n",
        "+ `list` represent ordered collections of objects, like `[1, 2, 3, 4, 5, 6, 7, 8, 9, 10]`, `[\"apple\", \"banana\", \"cherry\"]`, etc.\n",
        "+ `tuple` represent ordered, immutable collections of objects, like `(1, 2, 3, 4, 5, 6, 7, 8, 9, 10)`, `(\"apple\", \"banana\", \"cherry\")`, etc.\n",
        "+ `dict` represent unordered collections of key-value pairs, like `{\"apple\": 1, \"banana\": 2, \"cherry\": 3}`, etc.\n",
        "+ `set` represent unordered collections of unique objects, like `{1, 2, 3, 4, 5, 6, 7, 8, 9, 10}`, `{\"apple\", \"banana\", \"cherry\"}`, etc.\n",
        "\n",
        "However, all of these are specific cases of Python objects, they just happen to be built into the language itself. Because Python is object-oriented, we will eventually build custom objects by composing built-in data structures. Many scientific computing libraries in Python extend these built-in data types with specialized objects to make them more useful for scientific computing. For example, we will frequently use [Numpy](https://numpy.org/) arrays as replacements for the built-in list data type.\n"
      ]
    },
    {
      "cell_type": "code",
      "execution_count": null,
      "id": "035eaf80",
      "metadata": {
        "id": "035eaf80",
        "outputId": "81cb576d-74b4-488d-cca4-861355457a57"
      },
      "outputs": [
        {
          "name": "stdout",
          "output_type": "stream",
          "text": [
            "<class 'dict'>\n",
            "{'property': 27, 'dog': 'cat'}\n"
          ]
        }
      ],
      "source": [
        "# a = 1\n",
        "# print(type(a))\n",
        "\n",
        "# a = 1.0\n",
        "# print(type(a))\n",
        "\n",
        "# a = \"1.0\"\n",
        "# print(type(a))\n",
        "# print(\"Strings are immutable and ordered\\n\")\n",
        "\n",
        "# a = (1, 2, 3)\n",
        "# print(type(a))\n",
        "# print(\"Tuples are immutable and ordered\\n\")\n",
        "\n",
        "# a = {1, 2, 3}\n",
        "# print(type(a))\n",
        "# print(\"Sets are mutable and unordered\\n\")\n",
        "\n",
        "# a = [1, 2.0, \"3\", 5]\n",
        "# print(type(a))\n",
        "# help(a)\n",
        "# print(\"Lists are mutable and ordered\\n\")\n",
        "\n",
        "# a = dict()\n",
        "# print(type(a))\n",
        "# a[\"property\"] = 27\n",
        "# a[\"dog\"] = \"cat\"\n",
        "# print(a)\n",
        "\n",
        "\n",
        "# print(type(a))\n",
        "# print(a)\n",
        "# print(\"Dictionaries are mutable and unordered\")\n",
        "# print(\"Dictionaries are indexed by keys\")\n",
        "# print(\"Keys must be immutable\")"
      ]
    },
    {
      "cell_type": "markdown",
      "id": "53de90ca",
      "metadata": {
        "id": "53de90ca"
      },
      "source": [
        "<!-- ## Lists are ordered sets of objects\n",
        "\n",
        "Lists are ordered collections of objects that can contain duplicate entries. They are similar to stacks in other languages. They are similar to vectors in mathematics, however, not all of the objects in a list need to be of the same type. -->"
      ]
    },
    {
      "cell_type": "code",
      "execution_count": null,
      "id": "43899f17",
      "metadata": {
        "id": "43899f17",
        "outputId": "11f28932-25e7-4a8e-b09b-67520b1284a6"
      },
      "outputs": [
        {
          "name": "stdout",
          "output_type": "stream",
          "text": [
            "[0, 1, 2, 3, 4, 5, 12, 6, 7, 8, 9]\n",
            "11\n",
            "[0, 1, 2, 3, 4, 5, 12, 6, 7, 8, 9, 'ttt']\n",
            "0\n",
            "[0, 1, 2, 3, 4, 5, 12, 6, 7, 8, 9, 'ttt']\n",
            "[0, 1, 2, 3, 4, 5, 12, 8.5, 6, 7, 8, 9, 'ttt']\n",
            "[0, 1, 2, 3, 4, 5, 12, 8.5, 6, 7, 9, 'ttt']\n",
            "ttt\n",
            "[0, 1, 2, 3, 4, 5, 12, 8.5, 6, 7, 9]\n"
          ]
        }
      ],
      "source": [
        "xs = [0, 1, 2, 3, 4, 5, 12, 6, 7, 8, 9]\n",
        "print(xs)\n",
        "\n",
        "# ## Find length of the list\n",
        "print(len(xs))\n",
        "\n",
        "# ## Add element to back\n",
        "xs.append(\"ttt\")\n",
        "print(xs)\n",
        "\n",
        "# ## Count number of occurrences of a value\n",
        "print(xs.count(999))\n",
        "print(xs)\n",
        "\n",
        "xs.insert(7, 8.5)\n",
        "\n",
        "# # In-place sort\n",
        "# xs.sort() # alternative: sorted(xs) returns a sorted copy\n",
        "# # xs = sorted(xs)\n",
        "print(xs)\n",
        "\n",
        "# # Remove element based on value\n",
        "xs.remove(8)\n",
        "print(xs)\n",
        "\n",
        "\n",
        "# Remove element from back and return it\n",
        "# Similar to a stack in other languages\n",
        "print(xs.pop())\n",
        "print(xs)\n",
        "\n"
      ]
    },
    {
      "cell_type": "markdown",
      "id": "e177ca49",
      "metadata": {
        "id": "e177ca49"
      },
      "source": [
        "### Slice notation\n",
        "\n",
        "List are **mutable** in Python. This means that we can both view and change the contents of a list after it is created. In order to easily do this on the fly, we can use slicing notion, a powerful syntax choice in Python. This allows us to access a subset of a list (as well as other objects, like arrays, strings, etc.) by specifying a range of indices. The general syntax is:\n",
        "\n",
        "```python\n",
        "list[start:stop:step]\n",
        "```\n",
        "where `start` is the index of the first element to *include*, `stop` is the index of the first element to *exclude*, and `step` is the step size, or increment."
      ]
    },
    {
      "cell_type": "code",
      "execution_count": null,
      "id": "9a0e6b3d",
      "metadata": {
        "id": "9a0e6b3d",
        "outputId": "d7318da7-d447-4c0b-cf02-fb03903d3e1f"
      },
      "outputs": [
        {
          "name": "stdout",
          "output_type": "stream",
          "text": [
            "1\n",
            "[2, 3, 4]\n",
            "[2, 3, 4, 5, 6, 7, 8, 9]\n",
            "[0, 1, 2, 3]\n",
            "[0, 1, 2, 3, 4, 5, 6, 7, 8, 9]\n",
            "9\n",
            "[5, 6, 7]\n",
            "[7, 8, 9]\n",
            "[0, 1, 2, 3, 4, 5, 6, 7, 8, 9]\n"
          ]
        }
      ],
      "source": [
        "## Slice notation\n",
        "\n",
        "a = [10, 11, 20, 30, 24, 53, 26, 37, 28, 29]\n",
        "a = [0, 1, 2, 3, 4, 5, 6, 7, 8, 9]\n",
        "# print(len(a))\n",
        "\n",
        "\n",
        "# slicing up lists:\n",
        "# print(\"\\n\", \"Slicing syntax.\")\n",
        "print(a[1]) # zero-indexed\n",
        "print(a[2:5]) # returns neq list [a[2], a[3]] (it doesn't include a[4])\n",
        "print(a[2:])  # this notation starts with a[2] and goes to the end\n",
        "print(a[:4])  # this starts at the beginning and goes up until a[3]\n",
        "print(a[:])   # this just returns a copy of the whole list\n",
        "\n",
        "# # print(\"\\n\", \"Negative indices count from the end.\")\n",
        "print(a[-1])    # last element\n",
        "print(a[5:-2])   # this goes up until the last element\n",
        "print(a[-3:])   # this goes from the third-to-last element to the end\n",
        "\n",
        "print(a[::])\n"
      ]
    },
    {
      "cell_type": "markdown",
      "id": "d1876c48",
      "metadata": {
        "id": "d1876c48"
      },
      "source": [
        "## List comprehensions\n",
        "\n",
        "Suppose we want to perform and operation on each element of a list. The standard way to do this is to use a `for` loop, similar to other languages."
      ]
    },
    {
      "cell_type": "code",
      "execution_count": null,
      "id": "e1c7ec1d",
      "metadata": {
        "id": "e1c7ec1d",
        "outputId": "782eafa6-89d8-4327-f751-68157250684a"
      },
      "outputs": [
        {
          "name": "stdout",
          "output_type": "stream",
          "text": [
            "[0, 1, 4, 9, 16, 25, 36, 49, 64, 81]\n"
          ]
        }
      ],
      "source": [
        "# Standard loop\n",
        "a = [0, 1, 2, 3, 4, 5, 6, 7, 8, 9]\n",
        "for i in range(10):\n",
        "    a[i] = a[i] ** 2\n",
        "print(a)"
      ]
    },
    {
      "cell_type": "markdown",
      "id": "1cc23ace",
      "metadata": {
        "id": "1cc23ace"
      },
      "source": [
        "However, there is a more concise way to perform this operation, using a list comprehension."
      ]
    },
    {
      "cell_type": "code",
      "execution_count": null,
      "id": "ab219fb1",
      "metadata": {
        "id": "ab219fb1",
        "outputId": "242a2373-77af-4f1a-a297-5e38d310e7b2"
      },
      "outputs": [
        {
          "name": "stdout",
          "output_type": "stream",
          "text": [
            "[0, 1, 4, 9, 16, 25, 36, 49, 64, 81]\n"
          ]
        }
      ],
      "source": [
        "# List comprehension; Notice how python denotes exponentiation with `**`\n",
        "a = [0, 1, 2, 3, 4, 5, 6, 7, 8, 9]\n",
        "a = [i ** 2 for i in a]\n",
        "print(a)"
      ]
    },
    {
      "cell_type": "markdown",
      "id": "ad3aa08f",
      "metadata": {
        "id": "ad3aa08f"
      },
      "source": [
        "List comprehensions can include conditional statements and other nested logic."
      ]
    },
    {
      "cell_type": "code",
      "execution_count": null,
      "id": "e2f25a84",
      "metadata": {
        "id": "e2f25a84",
        "outputId": "fdd19d7f-a1fc-4f70-91c7-587b329ae37e"
      },
      "outputs": [
        {
          "name": "stdout",
          "output_type": "stream",
          "text": [
            "[0, 4, 16, 36, 64]\n"
          ]
        }
      ],
      "source": [
        "# List comprehension with conditionals\n",
        "a = [0, 1, 2, 3, 4, 5, 6, 7, 8, 9]\n",
        "a = [i ** 2 for i in a if i % 2 == 0]\n",
        "print(a)"
      ]
    },
    {
      "cell_type": "markdown",
      "id": "5492094b",
      "metadata": {
        "id": "5492094b"
      },
      "source": [
        "Many list comprehensions can be trivially parallelized. Python implements lightweight functional programming features, like `map` and `filter`, which can be used to perform operations across elements of a list."
      ]
    },
    {
      "cell_type": "code",
      "execution_count": null,
      "id": "9f696ea4",
      "metadata": {
        "id": "9f696ea4",
        "outputId": "27d9dc65-963e-42eb-a07e-474a2b114c7e"
      },
      "outputs": [
        {
          "name": "stdout",
          "output_type": "stream",
          "text": [
            "[0, 1, 4, 9, 16, 25, 36, 49, 64, 81]\n"
          ]
        }
      ],
      "source": [
        "# Map\n",
        "a = [0, 1, 2, 3, 4, 5, 6, 7, 8, 9]\n",
        "a = list(map(lambda x: x ** 2, a))\n",
        "print(a)"
      ]
    },
    {
      "cell_type": "code",
      "execution_count": null,
      "id": "2d78b04d",
      "metadata": {
        "id": "2d78b04d",
        "outputId": "4030425e-2e91-4f98-e60a-067c42dad4e5"
      },
      "outputs": [
        {
          "name": "stdout",
          "output_type": "stream",
          "text": [
            "[0, 4, 16, 36, 64]\n"
          ]
        }
      ],
      "source": [
        "# Map with filter\n",
        "a = [0, 1, 2, 3, 4, 5, 6, 7, 8, 9]\n",
        "a = list(map(\n",
        "    lambda x: x ** 2,\n",
        "    filter(lambda x: x % 2 == 0, a)\n",
        "))\n",
        "print(a)"
      ]
    },
    {
      "cell_type": "markdown",
      "id": "e71e082f",
      "metadata": {
        "id": "e71e082f"
      },
      "source": [
        "# Pass by reference vs. pass by value\n",
        "\n",
        "A common source of bugs in Python is the difference between variables that are assigned to objects and variables that are assigned to references to objects. In general, objects that are mutable (like lists) are passed by reference, while immutable objects (like integers, floats, strings, and tuples) are passed by value.\n"
      ]
    },
    {
      "cell_type": "code",
      "execution_count": null,
      "id": "079ea150",
      "metadata": {
        "id": "079ea150",
        "outputId": "d06132bb-b8b4-4850-e86e-3c0cb7ac7825"
      },
      "outputs": [
        {
          "name": "stdout",
          "output_type": "stream",
          "text": [
            "[1, 2, 3] 1\n",
            "[9, 2, 3] 1\n",
            "[9, 2, 3] 9\n"
          ]
        }
      ],
      "source": [
        "# Pass by value\n",
        "a = [1, 2, 3]\n",
        "b = a[0]\n",
        "print(a, b)\n",
        "\n",
        "a[0] = 9\n",
        "print(a, b)\n",
        "\n",
        "# b = 9\n",
        "# print(a, b)"
      ]
    },
    {
      "cell_type": "markdown",
      "id": "523bedc9",
      "metadata": {
        "id": "523bedc9"
      },
      "source": [
        "In the example above, we initialized the variable `a` with a list, and then assigned the first element of the list to the variable `b`. The first element of the list `a` is an `int`, which is an immutable object. When we assign `b = a[0]`, we are not creating a new list, but rather a new immutableobject `b` has the same value as `a[0]`. So we change `a[0]`, it does not affect `b`"
      ]
    },
    {
      "cell_type": "code",
      "execution_count": null,
      "id": "cc5ff3ae",
      "metadata": {
        "id": "cc5ff3ae",
        "outputId": "0b341ea8-0d14-4a3f-f6ff-0cea8b8c7e49"
      },
      "outputs": [
        {
          "name": "stdout",
          "output_type": "stream",
          "text": [
            "[1, 2, 3] [1, 2, 3]\n",
            "[9, 2, 3] [9, 2, 3]\n"
          ]
        }
      ],
      "source": [
        "# Pass by reference. Python lists are mutable\n",
        "a = [1, 2, 3]\n",
        "b = a\n",
        "print(a, b)\n",
        "\n",
        "a[0] = 9\n",
        "print(a, b)\n",
        "\n",
        "a = [1, 2, 3]\n",
        "b = a.copy()\n",
        "# a[0] = 9\n",
        "# print(a, b)"
      ]
    },
    {
      "cell_type": "markdown",
      "id": "3203e1a4",
      "metadata": {
        "id": "3203e1a4"
      },
      "source": [
        "In the example above, we initialized the variable `a` with a list, and then assigned the *entire list* to the variable `b`. Since we are now assigning a mutable object, it is a pass by reference assignment. As a result, when we change `a[0]`, it also changes `b[0]` because they point to the same object in memory. In general, outside the native types in Python, most high-level objects are mutable and thus passed by reference."
      ]
    },
    {
      "cell_type": "code",
      "execution_count": null,
      "id": "d37083ad",
      "metadata": {
        "id": "d37083ad",
        "outputId": "797bf9bb-17ba-4bb9-c6b1-f914ab4e2418"
      },
      "outputs": [
        {
          "name": "stdout",
          "output_type": "stream",
          "text": [
            "<class '__main__.SomeWeirdObject'>\n",
            "some value\n",
            "some value\n"
          ]
        }
      ],
      "source": [
        "# Pass by reference matters with weird objects we don't know about, which are usually\n",
        "# mutable\n",
        "\n",
        "class SomeWeirdObject:\n",
        "    def __init__(self):\n",
        "        self.some_weird_property = \"some value\"\n",
        "\n",
        "\n",
        "\n",
        "\n",
        "a = SomeWeirdObject()\n",
        "print(type(a))\n",
        "print(a.some_weird_property)\n",
        "\n",
        "b = a\n",
        "print(b.some_weird_property)\n",
        "# b.some_weird_property = \"some other value\"\n",
        "# print(a.some_weird_property)\n"
      ]
    },
    {
      "cell_type": "markdown",
      "id": "cb6c3e99",
      "metadata": {
        "id": "cb6c3e99"
      },
      "source": [
        "You can directly inspect the memory address of an object by calling the `id()` function on it."
      ]
    },
    {
      "cell_type": "code",
      "execution_count": null,
      "id": "b066d38e",
      "metadata": {
        "id": "b066d38e",
        "outputId": "a053336a-7471-453d-d4e0-20f63643287d"
      },
      "outputs": [
        {
          "name": "stdout",
          "output_type": "stream",
          "text": [
            "4749974080 4379683352 4749974080\n",
            "4749974080 4379683352\n"
          ]
        }
      ],
      "source": [
        "a = [1, 2, 3]\n",
        "b = a[0]\n",
        "c = a\n",
        "print(id(a), id(b), id(c))\n",
        "\n",
        "a[0] = 9\n",
        "print(id(a), id(b))\n"
      ]
    },
    {
      "cell_type": "markdown",
      "id": "67a8c4a6",
      "metadata": {
        "id": "67a8c4a6"
      },
      "source": [
        "# Abstract data types\n",
        "\n",
        "\n",
        "Abstract data types are a way to understand how Python built-ins operate behind the scenes. Typical abstract data types include:\n",
        "\n",
        "+ Hash tables\n",
        "+ Linked Lists\n",
        "+ Stacks\n",
        "+ Queues\n",
        "+ Heaps / Priority Queues\n",
        "+ Trees\n",
        "\n",
        "Each structure represents a different abstract way that data is represented and stored. Each has different costs to read, write, search, etc for value. Hash tables are very commonly used in Python, where they appear as the native `dict` data type.\n",
        "\n",
        "Data type of choice depends on\n",
        "1. Intrinsic structure of data. For example, spatial coordinates are ordered, making a lists a good choice\n",
        "2. Whether you are reading or writing to structure more often\n",
        "3. Whether memory or clock speed are your limiting variables\n",
        "\n",
        "In future chapters, we will explore in more detail how to assess the runtime and and space complexity, which is estimated using \"Big-O\" notation: how does the runtime and space usage of different datatypes, and operations acting on them, change with the size of their input $N$\n",
        "\n",
        "<img src=\"https://github.com/williamgilpin/cphy/blob/main/resources/datatypes.png?raw=1\" style=\"max-width:40%; height:auto;\">"
      ]
    },
    {
      "cell_type": "markdown",
      "id": "96b1efcf",
      "metadata": {
        "id": "96b1efcf"
      },
      "source": [
        "# Printing and strings\n",
        "\n",
        "While less common in scientific computing settings (outside of bioinformatics), Python includes a native`str` datatype for text, which has its own set of rules and interactions."
      ]
    },
    {
      "cell_type": "code",
      "execution_count": null,
      "id": "1c00ff77",
      "metadata": {
        "id": "1c00ff77",
        "outputId": "230cb1cc-2f86-42cd-8fb1-c34ea140e6a8"
      },
      "outputs": [
        {
          "name": "stdout",
          "output_type": "stream",
          "text": [
            "Hello world\n",
            "Hello world\n",
            "Hello world\n",
            "Hello world\n",
            "Hello World o7\n"
          ]
        }
      ],
      "source": [
        "# A print statement\n",
        "print(\"Hello world\")\n",
        "\n",
        "print(\"Hello\", \"world\")\n",
        "\n",
        "msg = \"Hello\"\n",
        "msg += \" world\"\n",
        "print(msg)\n",
        "\n",
        "msg = \" \".join([\"Hello\", \"world\"])\n",
        "print(msg)\n",
        "\n",
        "a = 7\n",
        "print(f\"Hello World o{a}\")\n"
      ]
    },
    {
      "cell_type": "markdown",
      "id": "1d375bbc",
      "metadata": {
        "id": "1d375bbc"
      },
      "source": [
        "By default, Python caches outputs generated using the `print()` function, and it waits to dump them into standard output in order to save on memory and runtime overhead. However, sometimes a long computation benefits from routinely being forced to report on its status to standard output. This can be done by passing the `flush=True` option to the `print()` function.\n"
      ]
    },
    {
      "cell_type": "code",
      "execution_count": null,
      "id": "76b74809",
      "metadata": {
        "id": "76b74809",
        "outputId": "c127a7f1-a09e-4fe8-b6c0-56ccb1b61fbd"
      },
      "outputs": [
        {
          "name": "stdout",
          "output_type": "stream",
          "text": [
            "Begin long computation without flushing\n",
            "40 iterations complete\n",
            "Begin long computation with flushing\n",
            "40 iterations complete\n"
          ]
        }
      ],
      "source": [
        "import time\n",
        "\n",
        "print(\"Begin long computation without flushing\")\n",
        "for i in range(100):\n",
        "    time.sleep(0.05)\n",
        "    if i == 0:\n",
        "        print(\"40 iterations complete\")\n",
        "\n",
        "print(\"Begin long computation with flushing\")\n",
        "for i in range(100):\n",
        "    time.sleep(0.05)\n",
        "    if i == 4:\n",
        "        print(\"40 iterations complete\", flush=True)\n"
      ]
    },
    {
      "cell_type": "code",
      "execution_count": null,
      "id": "c3b57c8d",
      "metadata": {
        "id": "c3b57c8d"
      },
      "outputs": [],
      "source": []
    },
    {
      "cell_type": "code",
      "execution_count": null,
      "id": "1ae72753",
      "metadata": {
        "id": "1ae72753"
      },
      "outputs": [],
      "source": []
    },
    {
      "cell_type": "code",
      "execution_count": null,
      "id": "32516871",
      "metadata": {
        "id": "32516871"
      },
      "outputs": [],
      "source": []
    }
  ],
  "metadata": {
    "kernelspec": {
      "display_name": "Python 3",
      "language": "python",
      "name": "python3"
    },
    "language_info": {
      "codemirror_mode": {
        "name": "ipython",
        "version": 3
      },
      "file_extension": ".py",
      "mimetype": "text/x-python",
      "name": "python",
      "nbconvert_exporter": "python",
      "pygments_lexer": "ipython3",
      "version": "3.13.1"
    },
    "colab": {
      "provenance": []
    }
  },
  "nbformat": 4,
  "nbformat_minor": 5
}